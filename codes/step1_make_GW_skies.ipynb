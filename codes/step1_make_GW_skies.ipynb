{
 "cells": [
  {
   "cell_type": "markdown",
   "metadata": {},
   "source": [
    "# Computing probabilistic numbers of PTA binaries from 2MASS, and making realizations of GW skies "
   ]
  },
  {
   "cell_type": "markdown",
   "metadata": {},
   "source": [
    "### Chiara Mingarelli, mingarelli@gmail.com"
   ]
  },
  {
   "cell_type": "code",
   "execution_count": 1,
   "metadata": {},
   "outputs": [],
   "source": [
    "#!/usr/bin/env python\n",
    "\"\"\"step1_make_GW_skies.ipynb: a notebook to create gravitational-wave skies \"\"\"\n",
    "\n",
    "__author__ = \"Chiara M. F. Mingarelli\"\n",
    "__copyright__ = \"Copyright 2017, GWASAP project\"\n",
    "__credits__ = [\"Chiara Mingarelli\"]\n",
    "__license__ = \"GPL\"\n",
    "__version__ = \"0.0.1\"\n",
    "__maintainer__ = \"Chiara Mingarelli\"\n",
    "__email__ = \"mingarelli@gmail.com\""
   ]
  },
  {
   "cell_type": "code",
   "execution_count": 2,
   "metadata": {},
   "outputs": [],
   "source": [
    "from __future__ import division\n",
    "from IPython.display import display, Math, Latex\n",
    "import math\n",
    "from math import sqrt, cos, sin, pi\n",
    "import numpy as np\n",
    "#import statsmodels.api as sm\n",
    "from scipy.interpolate import interp1d\n",
    "from scipy.integrate import quad\n",
    "from scipy.stats import norm\n",
    "import matplotlib.pyplot as plt\n",
    "import matplotlib.mlab as mlab\n",
    "import matplotlib.mlab as ml\n",
    "from matplotlib.ticker import FormatStrFormatter, LinearLocator, NullFormatter, NullLocator, MultipleLocator\n",
    "import matplotlib.ticker\n",
    "import matplotlib.colors\n",
    "from matplotlib.font_manager import FontProperties\n",
    "from matplotlib import rc, text\n",
    "#import healpy as hp\n",
    "#import plot\n",
    "import astropy\n",
    "import astropy.units as u\n",
    "from astropy.cosmology import Planck15, z_at_value\n",
    "import time\n",
    "import collections\n",
    "import seaborn as sb\n",
    "\n",
    "%matplotlib inline\n",
    "%config InlineBackend.figure_format = \"retina\""
   ]
  },
  {
   "cell_type": "code",
   "execution_count": 4,
   "metadata": {},
   "outputs": [],
   "source": [
    "def stall(Mstar):\n",
    "    Mstar = np.log10(Mstar)\n",
    "    MBH = 1.456*Mstar - 8.908\n",
    "    return 10**MBH"
   ]
  },
  {
   "cell_type": "code",
   "execution_count": 5,
   "metadata": {},
   "outputs": [
    {
     "data": {
      "text/plain": [
       "12823305.826560179"
      ]
     },
     "execution_count": 5,
     "metadata": {},
     "output_type": "execute_result"
    }
   ],
   "source": [
    "stall(1e11)"
   ]
  },
  {
   "cell_type": "markdown",
   "metadata": {},
   "source": [
    "## constants and shortcuts "
   ]
  },
  {
   "cell_type": "code",
   "execution_count": 4,
   "metadata": {},
   "outputs": [],
   "source": [
    "# physical constants for natural units c = G = 1\n",
    "c=2.99792458*(10**8)\n",
    "G=6.67428*(10**(-11))\n",
    "s_mass=G*(1.98892*10**(30))/(c**3)\n",
    "\n",
    "# common function shortcuts\n",
    "log10 = np.log10\n",
    "pi = np.pi\n",
    "sqrt = np.sqrt"
   ]
  },
  {
   "cell_type": "code",
   "execution_count": 6,
   "metadata": {},
   "outputs": [],
   "source": [
    "# Mass functions\n",
    "\n",
    "def mu(m1,m2): return s_mass*(m1*m2)/(m1+m2) # reduced mass\n",
    "\n",
    "def M(m1,m2):  return s_mass*(m1+m2) # total mass\n",
    "\n",
    "def mchirp(m1,m2): return ((mu(m1,m2))**(3./5))*((M(m1,m2))**(2./5))  # chirp mass\n",
    "\n",
    "def mchirp_q(q,Mtot): \n",
    "    \"\"\"\n",
    "    chirp mass in terms of q and M_tot. Answer in seconds.\n",
    "    \"\"\"\n",
    "    ans = (q/(1+q)**2)**(3/5)*Mtot*s_mass\n",
    "    return ans\n",
    "\n",
    "def parsec2sec(d): return d*3.08568025e16/299792458\n",
    "\n",
    "\n",
    "# Functions related to galaxy catalogue \n",
    "\n",
    "def Mk2mStar(mag):\n",
    "    \"\"\"\n",
    "    converting from k-band luminosity to M* using Eq.2 from Ma et al. (2014)\n",
    "    valid for early-type galaxies\n",
    "    \"\"\"\n",
    "    Mstar = 10.58-0.44*(mag + 23)\n",
    "    return 10**(Mstar)\n",
    "\n",
    "def Mbh2Mbulge(Mbulge):\n",
    "    \"\"\"\n",
    "    M_BH-M_bulge. Bulge mass to black hole mass (note that M_bulge = Mstar; assume these are the same)\n",
    "    McConnell and Ma (2013) relation below Figure 3\n",
    "    Includes scatter in the relation, \\epsilon = 0.34\n",
    "    Answer in solar masses.\n",
    "    \"\"\"\n",
    "    exponent = 8.46+1.05*log10(Mbulge/1e11)\n",
    "    ans_w_scatter = np.random.normal(exponent,0.34)\n",
    "    #print locals()\n",
    "    return 10**ans_w_scatter\n",
    "\n",
    "def Mbh2Mbulge_noScat(Mbulge):\n",
    "    \"\"\"\n",
    "    M_BH-M_bulge. Bulge mass to black hole mass (note that M_bulge = Mstar; assume these are the same)\n",
    "    McConnell and Ma (2013) relation below Figure 3\n",
    "    Includes scatter in the relation, \\epsilon = 0.34\n",
    "    Answer in solar masses.\n",
    "    \"\"\"\n",
    "    exponent = 8.46+1.05*log10(Mbulge/1e11)\n",
    "    #ans_w_scatter = np.random.normal(exponent,0.34)\n",
    "    #print locals()\n",
    "    return 10**exponent\n",
    "\n",
    "# For GWs: strain, GW frequency and time to coalescence \n",
    "\n",
    "def strain(mass, dist, freq):\n",
    "    \"\"\"\n",
    "    Eq. 4 from Schutz and Ma, strain for an equal mass binary\n",
    "    mass in solar masses, freq in Hz, distance in Mpc\n",
    "    I think this is off by a factor of 2**(-1/3)\n",
    "    \"\"\"\n",
    "    ans = 6.9e-15*(mass/1e9)**(5/3)*(10/dist)*(freq/1e-8)**(2/3)\n",
    "    return ans\n",
    "\n",
    "def generic_strain(q_mass_ratio, Mtot, dist, freq):\n",
    "    strain = sqrt(32./5)*mchirp_q(q_mass_ratio,Mtot)**(5/3)*(pi*freq)**(2/3)/parsec2sec(dist*1e6)\n",
    "    return strain\n",
    "\n",
    "def generic_strain_wMc(chirp_mass, dist, freq):\n",
    "    strain = sqrt(32./5)*(chirp_mass*s_mass)**(5/3)*(pi*freq)**(2/3)/parsec2sec(dist*1e6)\n",
    "    return strain\n",
    "\n",
    "def freq_gw(q, Mtot, tc):\n",
    "    \"\"\"\n",
    "    GW frquency as a function of time to coalescence in years, total mass and mass ratio\n",
    "    Result from integration of standard df/dt for GWs\n",
    "    \"\"\"\n",
    "    ans = mchirp_q(q,Mtot)**(-5/8)/pi*(256/5*tc*31556926)**(-3/8)\n",
    "    return ans\n",
    "\n",
    "def freq_gw_wMc(chirp_mass, tc):\n",
    "    \"\"\"\n",
    "    GW frquency as a function of time to coalescence in years and chirp mass (directly)\n",
    "    Result from integration of standard df/dt for GWs\n",
    "    \"\"\"\n",
    "    ans = (chirp_mass*s_mass)**(-5/8)/pi*(256/5*tc*31556926)**(-3/8)\n",
    "    return ans\n",
    "\n",
    "def time_to_c(q, Mtot, freq):\n",
    "    \"\"\"\n",
    "    time to coalescence of a binary in years\n",
    "    \"\"\"\n",
    "    ans = (pi*freq)**(-8/3)*mchirp_q(q,Mtot)**(-5/3)*5/256\n",
    "    return (ans/31556926)\n",
    "\n",
    "def time_to_c_wMc(chirp_mass, freq):\n",
    "    \"\"\"\n",
    "    freq. in Hz, input chirp mass in solar masses, answer in years\n",
    "    \"\"\"\n",
    "    ans = (pi*freq)**(-8/3)*(chirp_mass*s_mass)**(-5/3)*5/256\n",
    "    return (ans/31556926)\n",
    "\n",
    "def ecc_integral(e):\n",
    "    return e**(29/19)*(1+(121./304)*e**2)**(1181/2299)/(1-e**2)**1.5\n",
    "\n",
    "def time_to_c_ecc(e0,q,Mtot,orb_freq):\n",
    "    \"\"\"\n",
    "    time to coalescence for the eccentric case, from Peters (1964)\n",
    "    eqns. 5.11, 5.14. This is done via numerical integration and \n",
    "    needs initial conditions (a0,e0)\n",
    "    \"\"\"\n",
    "    a0 = (Mtot*s_mass/(2*pi*orb_freq)**2)**(1./3)\n",
    "    c0 = a0*(1-e0**2)/e0**(12/19)/(1+121./304*e0**2)**(870/2299)\n",
    "    m1 = Mtot*s_mass/(1+q)\n",
    "    m2 = q*m1\n",
    "    beta = 64/5*m1*m2*Mtot*s_mass\n",
    "    ans = 12/19*(c0**4/beta)*quad(ecc_integral,0,e0)[0]\n",
    "    return ans/31556926\n",
    "\n",
    "def time_to_c_ecc_approx(e0,q,Mtot,orb_freq):\n",
    "    a0 = (Mtot*s_mass/(2*pi*orb_freq)**2)**(1./3)\n",
    "    c0 = a0*(1-e0**2)/e0**(12/19)/(1+121./304*e0**2)**(870/2299)\n",
    "    m1 = Mtot*s_mass/(1+q)\n",
    "    m2 = q*m1\n",
    "    beta = 64/5*m1*m2*Mtot*s_mass\n",
    "    return c0**4/(4*beta)*e0**(48/19)/31556926\n",
    "    \n",
    "def i_prob(q, Mtot, min_freq, total_T):\n",
    "    \"\"\"\n",
    "    input time in years, Mtot in solar masses\n",
    "    \"\"\"\n",
    "    ans = time_to_c(q, Mtot, min_freq)/total_T\n",
    "    return ans\n",
    "\n",
    "def i_prob_wMc(chirpMass, min_freq, total_T):\n",
    "    \"\"\"\n",
    "    input time in years, Mtot in solar masses\n",
    "    Probability that this galaxy contains a binary in the PTA band\n",
    "    \"\"\"\n",
    "    ans = time_to_c_wMc(chirpMass, min_freq)/total_T\n",
    "    return ans\n"
   ]
  },
  {
   "cell_type": "code",
   "execution_count": 64,
   "metadata": {},
   "outputs": [
    {
     "data": {
      "text/plain": [
       "(3805072748.742167, 3805072748.74217)"
      ]
     },
     "execution_count": 64,
     "metadata": {},
     "output_type": "execute_result"
    }
   ],
   "source": [
    "time_to_c_ecc_approx(1e-100,1,10**8,0.5e-9),time_to_c(1,10**8,1e-9)"
   ]
  },
  {
   "cell_type": "code",
   "execution_count": 8,
   "metadata": {},
   "outputs": [
    {
     "data": {
      "text/plain": [
       "'2.88e+11'"
      ]
     },
     "execution_count": 8,
     "metadata": {},
     "output_type": "execute_result"
    }
   ],
   "source": [
    "'%.2e'%Mk2mStar(-25)"
   ]
  },
  {
   "cell_type": "markdown",
   "metadata": {},
   "source": [
    "## Hardening and Dynamical Friction Timescales"
   ]
  },
  {
   "cell_type": "code",
   "execution_count": 9,
   "metadata": {},
   "outputs": [],
   "source": [
    "# Black hole merger timescales from galaxy merger timescale; Binney and Tremaine 1987 \n",
    "# \"Galactic Dynamics\"; also Sesana and Khan 2015\n",
    "# \"a\" is computed by equating R_eff from Dabringhausen, Hilker & Kroupa (2008) Eq. 4 and \n",
    "\n",
    "def R_eff(Mstar):\n",
    "    \"\"\"\n",
    "    Effective radius, Dabringhausen, Hilker & Kroupa (2008) Eq. 4\n",
    "    Answer in units of parsecs (pc)\n",
    "    \"\"\"\n",
    "    ans = np.maximum(2.95*(Mstar/1e6)**0.596,34.8*(Mstar/1e6)**0.399)\n",
    "    return ans\n",
    "\n",
    "def r0_sol(Mstar, gamma):\n",
    "    \"\"\"\n",
    "    r0 solution obtained by equating XX with YY (as in Sesana & Khan 2015)\n",
    "    answer in parsecs\n",
    "    \"\"\"\n",
    "    ans = R_eff(Mstar)/0.75*(2**(1/(3-gamma))-1)\n",
    "    return ans\n",
    "\n",
    "def sigmaVel(Mstar):\n",
    "    \"\"\"\n",
    "    from Zahid et al. 2016 Eq 5 and Table 1 fits; assume massive galaxies with Mb > 10.3\n",
    "    answer in km/s\n",
    "    \"\"\"\n",
    "    logSigmaB = 2.2969\n",
    "    alpha2 = 0.299\n",
    "    Mb = 10**(11) #solar masses\n",
    "    logAns = logSigmaB + alpha2*log10(Mstar/Mb)\n",
    "    #print \"sigmaVel is \", (10**logAns)\n",
    "    return 10**logAns\n",
    "\n",
    "def tfric(Mstar,M2):\n",
    "    \"\"\"\n",
    "    Final eq from https://webhome.weizmann.ac.il/home/iair/astrocourse/tutorial8.pdf\n",
    "    returns timescale in Gyr\n",
    "    Mbh should be mass of primary\n",
    "    \"\"\"\n",
    "    # assume log(Lambda) = 10\n",
    "    vc = sqrt(2)*sigmaVel(Mstar)\n",
    "    #a = semiMaj_a(Mstar)/1e3 # make sure \"a\" units are kpc\n",
    "    a = R_eff(Mstar)/1e3\n",
    "    ans = 2.64e10*(a/2)**2*(vc/250)*(1e6/M2)\n",
    "    return ans/1e9 \n",
    "\n",
    "def rho_r(Mstar, gamma, r_var):\n",
    "    \"\"\"\n",
    "    gamma for Dehen profiles; Sesana & Khan 2015, Eq. 1 \n",
    "    r_const = r_0 or \"a\" in Dehen 1993\n",
    "    r_var = \"r\" in Dehen 1993\n",
    "    answer in seconds^-2\n",
    "    \"\"\"\n",
    "    r_const = parsec2sec(r0_sol(Mstar, gamma)) # parsec to seconds\n",
    "    r_var = parsec2sec(r_var)\n",
    "    num = (3-gamma)*(Mstar*s_mass)*r_const\n",
    "    deno = 4*pi*(r_var)**gamma*(r_var+r_const)**(4-gamma)\n",
    "    ans = num/deno\n",
    "    return ans\n",
    "\n",
    "def r_inf(Mstar,gamma,Mtot):\n",
    "    \"\"\"\n",
    "    influence radius, r_inf, from Sesana & Khan 2015\n",
    "    answer in parsecs\n",
    "    \"\"\"\n",
    "    num = r0_sol(Mstar, gamma)\n",
    "    deno = (Mstar/(2*Mtot))**(1/(3-gamma))-1 #units of solar masses cancel out\n",
    "    rinf = num/deno\n",
    "    return rinf\n",
    "\n",
    "def a_StarGW(Mstar,q,Mtot,gamma,H):\n",
    "    \"\"\"\n",
    "    Eq. 6, Sesana & Khan 2015. Assume no eccentricity, e=0.\n",
    "    Answer in seconds\n",
    "    \"\"\"\n",
    "    sigmaInf = sigmaVel(Mstar)*1000/c # km/s converted to m/s then /c for dimensionless units\n",
    "    rho_inf = rho_r(Mstar, gamma, r_inf(Mstar,gamma,Mtot)) #rinf in pc, rho_inf func converts\n",
    "    num = 64*sigmaInf*(q*(Mtot*s_mass)**3/(1+q)**2)\n",
    "    deno = 5*H*rho_inf\n",
    "    ans = (num/deno)**(1/5)\n",
    "    return ans\n",
    "\n",
    "def a_StarGW_ecc(Mstar,q,Mtot,gamma,H,e):\n",
    "    \"\"\"\n",
    "    Eq. 6, Sesana & Khan 2015.\n",
    "    Answer in seconds\n",
    "    \"\"\"\n",
    "    sigmaInf = sigmaVel(Mstar)*1000/c # km/s converted to m/s then /c for dimensionless units\n",
    "    rho_inf = rho_r(Mstar, gamma, r_inf(Mstar,gamma,Mtot)) #rinf in pc, rho_inf func converts\n",
    "    F_e = (1-e**2)**(-7./2)*(1+(73./24)*e**2 + (37./96)*e**4)\n",
    "    num = 64*sigmaInf*(q*(Mtot*s_mass)**3/(1+q)**2*F_e)\n",
    "    deno = 5*H*rho_inf\n",
    "    ans = (num/deno)**(1/5)\n",
    "    return ans\n",
    "\n",
    "def t_hard(Mstar,q,gamma,Mtot):\n",
    "    \"\"\"\n",
    "    Hardening timescale with stars, Eq. 7 Sesana & Khan 2015\n",
    "    Answer in Gyrs\n",
    "    \"\"\"\n",
    "    a_val = parsec2sec(r0_sol(Mstar, gamma))\n",
    "    H = 15\n",
    "    aStarGW = a_StarGW(Mstar,q,Mtot,gamma,H) #check units\n",
    "    sigma_inf = sigmaVel(Mstar)*1000/c\n",
    "    rinf_val = r_inf(Mstar,gamma,Mtot)\n",
    "    rho_inf = rho_r(Mstar, gamma, rinf_val)\n",
    "    ans = sigma_inf/(H*rho_inf*aStarGW)\n",
    "    return ans/31536000/1e9, rinf_val\n",
    "\n",
    "def t_hard_ecc(Mstar,q,gamma,Mtot,e):\n",
    "    \"\"\"\n",
    "    Hardening timescale with stars, Eq. 7 Sesana & Khan 2015\n",
    "    Answer in Gyrs\n",
    "    \"\"\"\n",
    "    a_val = parsec2sec(r0_sol(Mstar, gamma))\n",
    "    H = 15\n",
    "    aStarGW_ecc = a_StarGW_ecc(Mstar,q,Mtot,gamma,H,e) #check units\n",
    "    sigma_inf = sigmaVel(Mstar)*1000/c\n",
    "    rinf_val = r_inf(Mstar,gamma,Mtot)\n",
    "    rho_inf = rho_r(Mstar, gamma, rinf_val)\n",
    "    ans = sigma_inf/(H*rho_inf*aStarGW_ecc)\n",
    "    return ans/31536000/1e9, rinf_val"
   ]
  },
  {
   "cell_type": "markdown",
   "metadata": {},
   "source": [
    "## Parameters and functions for Illustris"
   ]
  },
  {
   "cell_type": "code",
   "execution_count": 10,
   "metadata": {},
   "outputs": [],
   "source": [
    "# constants for Illustris, Table 1 of Rodriguez-Gomez et al. (2016), assuming z = 0. \n",
    "\n",
    "M0 = 2e11 # solar masses\n",
    "A0 = 10**(-2.2287) # Gyr^-1\n",
    "alpha0 = 0.2241\n",
    "alpha1 = -1.1759\n",
    "delta0 = 0.7668\n",
    "beta0 = -1.2595\n",
    "beta1 = 0.0611\n",
    "gamma = -0.0477\n",
    "eta = 2.4644\n",
    "delta0 = 0.7668\n",
    "delta1 = -0.4695"
   ]
  },
  {
   "cell_type": "code",
   "execution_count": 11,
   "metadata": {},
   "outputs": [],
   "source": [
    "# For Illustris galaxy-galaxy merger rate\n",
    "# functions for Illustris, Table 1 of Rodriguez-Gomez et al. (2016). \n",
    "\n",
    "def A_z(z): return A0*(1+z)**eta \n",
    "def alpha(z): return alpha0*(1+z)**alpha1\n",
    "def beta(z): return beta0*(1+z)**beta1\n",
    "def delta(z): return delta0*(1+z)**delta1\n",
    "\n",
    "def MzMnow(mu, sigma):\n",
    "    \"\"\"\n",
    "    Scale the value of M* to its value at z=0.3.\n",
    "    This is from de Lucia and Blaizot 2007, Figure 7.\n",
    "    \"\"\"\n",
    "    ans = np.random.normal(mu, sigma)\n",
    "    return ans\n",
    "\n",
    "def illus_merg(mustar, Mstar,z):\n",
    "    \"\"\"\n",
    "    Galaxy-galaxy merger rate from Illustris simulation.\n",
    "    This is d^2N_mergers/dmu dt (M, mu*), in units of Gyr^-1\n",
    "    Table 1 of Rodriguez-Gomez et al. (2016).\n",
    "    \"\"\"\n",
    "    exponent = beta(z) + gamma*np.log10(Mstar/1e10)\n",
    "    rate = A_z(z)*(Mstar/1e10)**alpha(z)*(1+(Mstar/M0)**delta(z))*mustar**exponent\n",
    "    return rate\n",
    "\n",
    "def cumulative_merg_ill(mu_min, mu_max, Mstar, z):\n",
    "    \"\"\"\n",
    "    Cumulative merger probability over a range of mu^*. \n",
    "    For major mergers, this is 0.25 to 1.0\n",
    "    \"\"\"\n",
    "    ans, err = quad(illus_merg, mu_min, mu_max, args = (Mstar,z))\n",
    "    return ans\n",
    "\n",
    "def i_prob_Illustris(Mstar, Mtot, q, e0, min_freq):\n",
    "    \"\"\"\n",
    "    Probability that this galaxy contains a binary in the PTA band\n",
    "    \"\"\"\n",
    "    chirpMass = mchirp_q(q,Mtot)/s_mass #in solar mass units\n",
    "    M1 = Mtot/(1+q)\n",
    "    M2 = M1*q\n",
    "    mu_min, mu_max = 0.25, 1.0\n",
    "    gamma = 1.0 # for Hernquist profile, see Dehen 1993\n",
    "    \n",
    "    #Mstar = Mstar*MzMnow(mu, sigma) # scale M* according to Figure 7 of de Lucia and Blaizot 2007\n",
    "    MstarZ = 0.7*Mstar\n",
    "    hardening_t, r_inf_here = t_hard_ecc(MstarZ,q,gamma,Mtot,e0)\n",
    "    friction_t = tfric(MstarZ,M2)\n",
    "    timescale = hardening_t + friction_t  # Gyrs \n",
    "\n",
    "    # if timescale > 12.25 Gyrs (z=4), no merging SMBHs\n",
    "    # also limit of validity for Rodriguez-Gomez + (2015) fit in Table 1.\n",
    "    if timescale > 12.25: \n",
    "        return 0, 'nan', timescale*1e9, 'nan', 'nan',  r_inf_here, friction_t, hardening_t\n",
    "    else:\n",
    "        z = z_at_value(Planck15.age, (13.79-timescale) * u.Gyr) # redshift of progenitor galaxies\n",
    "        t2c = time_to_c(q,Mtot,min_freq) # in years\n",
    "        mergRate = cumulative_merg_ill(mu_min, mu_max, MstarZ, z) # rate per Gigayear\n",
    "        Tz = timescale*1e9\n",
    "        ans = t2c*mergRate/1e9\n",
    "        return ans, z, Tz, mergRate, t2c, r_inf_here, friction_t, hardening_t"
   ]
  },
  {
   "cell_type": "code",
   "execution_count": 12,
   "metadata": {},
   "outputs": [],
   "source": [
    "# Major Merger, mu = 0.25, 1\n",
    "mu_min = 0.25\n",
    "mu_max = 1.0\n",
    "\n",
    "lst03L = []\n",
    "lst1L = []\n",
    "lst2L = []\n",
    "bh_rangeL = range(10**7,10**9,5*10**6) #LISA\n",
    "for j in bh_rangeL:   \n",
    "    lst03L.append(cumulative_merg_ill(mu_min, mu_max,j, z=0.3))\n",
    "    lst1L.append(cumulative_merg_ill(mu_min, mu_max,j, z=1))\n",
    "    lst2L.append(cumulative_merg_ill(mu_min, mu_max,j, z=2))"
   ]
  },
  {
   "cell_type": "code",
   "execution_count": 13,
   "metadata": {},
   "outputs": [],
   "source": [
    "bh_rangePTA = range(10**9,10**13,10**8) #PTA\n",
    "lst03 = []\n",
    "lst1 = []\n",
    "lst2 = []\n",
    "\n",
    "for j in bh_rangePTA:   \n",
    "    lst03.append(cumulative_merg_ill(mu_min, mu_max,j, z=0.3))\n",
    "    lst1.append(cumulative_merg_ill(mu_min, mu_max,j, z=1))\n",
    "    lst2.append(cumulative_merg_ill(mu_min, mu_max,j, z=2))"
   ]
  },
  {
   "cell_type": "code",
   "execution_count": 14,
   "metadata": {},
   "outputs": [
    {
     "data": {
      "text/plain": [
       "'3.16e+10'"
      ]
     },
     "execution_count": 14,
     "metadata": {},
     "output_type": "execute_result"
    }
   ],
   "source": [
    "'%.2e'%Mbh2Mbulge(1e13) # 1e11 - 1e13 M_sun for PTA"
   ]
  },
  {
   "cell_type": "code",
   "execution_count": 15,
   "metadata": {},
   "outputs": [
    {
     "data": {
      "text/plain": [
       "'1.33e+04'"
      ]
     },
     "execution_count": 15,
     "metadata": {},
     "output_type": "execute_result"
    }
   ],
   "source": [
    "\n",
    "'%.2e'%Mbh2Mbulge(1e7) # 1e7 - 1e9 M_sun for LISA"
   ]
  },
  {
   "cell_type": "code",
   "execution_count": 16,
   "metadata": {},
   "outputs": [],
   "source": [
    "fig_width_pt = 245.27 #513.17           # Get this from LaTeX using \\showthe\\columnwidth\n",
    "inches_per_pt = 1.0/72.27               # Convert pt to inches\n",
    "golden_mean = (np.sqrt(5)-1.0)/2.0      # Aesthetic ratio\n",
    "fig_width = fig_width_pt*inches_per_pt  # width in inches\n",
    "fig_height =fig_width*golden_mean       # height in inches\n",
    "fig_size = [fig_width,fig_height]\n",
    "\n",
    "params = {'backend': 'pdf',\n",
    "        'axes.labelsize': 7,\n",
    "        'lines.markersize': 4,\n",
    "        'font.size': 7,\n",
    "        'xtick.major.size':6,\n",
    "        'xtick.minor.size':3,  \n",
    "        'ytick.major.size':6,\n",
    "        'ytick.minor.size':3, \n",
    "        'xtick.major.width':0.5,\n",
    "        'ytick.major.width':0.5,\n",
    "        'xtick.minor.width':0.5,\n",
    "        'ytick.minor.width':0.5,\n",
    "        'lines.markeredgewidth':1,\n",
    "        'axes.linewidth':1.2,\n",
    "        'legend.fontsize': 7,\n",
    "        'xtick.labelsize': 7,\n",
    "        'ytick.labelsize': 7,\n",
    "        'savefig.dpi':200,\n",
    "        'path.simplify':True,\n",
    "        'font.family': 'serif',\n",
    "        'font.serif':'Times',\n",
    "        'text.latex.preamble': [r'\\usepackage{amsmath}'],\n",
    "        'text.usetex':True,\n",
    "        #'axes.color_cycle': ['b', 'lime', 'r', 'purple', 'g', 'c', 'm', 'orange', 'darkblue', \\\n",
    "        #                        'darkcyan', 'y','orangered','chartreuse','brown','deeppink','lightgreen', 'k'],\n",
    "        #'font.serif':cm,\n",
    "        'figure.figsize': fig_size}\n",
    "plt.rcParams.update(params)"
   ]
  },
  {
   "cell_type": "code",
   "execution_count": null,
   "metadata": {},
   "outputs": [],
   "source": []
  },
  {
   "cell_type": "code",
   "execution_count": null,
   "metadata": {},
   "outputs": [],
   "source": []
  },
  {
   "cell_type": "code",
   "execution_count": null,
   "metadata": {},
   "outputs": [],
   "source": []
  },
  {
   "cell_type": "markdown",
   "metadata": {},
   "source": [
    "# Main Part of Code"
   ]
  },
  {
   "cell_type": "markdown",
   "metadata": {},
   "source": [
    "### Choose a galaxy catalog "
   ]
  },
  {
   "cell_type": "code",
   "execution_count": 17,
   "metadata": {},
   "outputs": [],
   "source": [
    "# this is the revised list from Jenny with galaxy names in the final column\n",
    "catalog = np.loadtxt(\"../galaxy_data/2mass_galaxies.lst\",usecols = (1,2,3,4))\n",
    "\n",
    "cat_name = np.genfromtxt(\"../galaxy_data/2mass_galaxies.lst\", usecols=(5), dtype='str')"
   ]
  },
  {
   "cell_type": "code",
   "execution_count": 18,
   "metadata": {},
   "outputs": [
    {
     "data": {
      "text/plain": [
       "(5110, 4)"
      ]
     },
     "execution_count": 18,
     "metadata": {},
     "output_type": "execute_result"
    }
   ],
   "source": [
    "catalog.shape"
   ]
  },
  {
   "cell_type": "markdown",
   "metadata": {},
   "source": [
    "## List of supermassive black holes with dynamic mass measurements"
   ]
  },
  {
   "cell_type": "code",
   "execution_count": 19,
   "metadata": {},
   "outputs": [],
   "source": [
    "dyn_smbh_name = np.genfromtxt(\"../galaxy_data/schutzMa_extension.txt\", usecols=(0), dtype='str', skip_header = 2)\n",
    "dyn_smbh_mass = np.genfromtxt(\"../galaxy_data/schutzMa_extension.txt\", usecols = (4), skip_header = 2)"
   ]
  },
  {
   "cell_type": "code",
   "execution_count": 20,
   "metadata": {},
   "outputs": [],
   "source": [
    "ext_catalog = np.loadtxt(\"../galaxy_data/added_Mks.lst\", usecols = (1,2,3,4,5), skiprows = 2)\n",
    "ext_name = np.genfromtxt(\"../galaxy_data/added_Mks.lst\", usecols=(0), dtype='str', skip_header = 2)"
   ]
  },
  {
   "cell_type": "code",
   "execution_count": 21,
   "metadata": {},
   "outputs": [
    {
     "data": {
      "text/plain": [
       "(24,)"
      ]
     },
     "execution_count": 21,
     "metadata": {},
     "output_type": "execute_result"
    }
   ],
   "source": [
    "dyn_smbh_mass.shape\n"
   ]
  },
  {
   "cell_type": "code",
   "execution_count": 22,
   "metadata": {},
   "outputs": [
    {
     "data": {
      "text/plain": [
       "(9, 5)"
      ]
     },
     "execution_count": 22,
     "metadata": {},
     "output_type": "execute_result"
    }
   ],
   "source": [
    "ext_catalog.shape"
   ]
  },
  {
   "cell_type": "markdown",
   "metadata": {},
   "source": [
    "## Extract values from catalogues"
   ]
  },
  {
   "cell_type": "code",
   "execution_count": 23,
   "metadata": {},
   "outputs": [],
   "source": [
    "# Identify galaxies with dynamically measured supermassive black holes (33)\n",
    "\n",
    "ext_bh_mass = ext_catalog[:,3] # in units of solar masses\n",
    "\n",
    "all_dyn_bh_name = np.hstack((dyn_smbh_name, ext_name)) # names of galaxies w dyn. BH masses\n",
    "all_dyn_bh_mass = np.hstack((dyn_smbh_mass, ext_bh_mass)) #BH masses of these galaxies"
   ]
  },
  {
   "cell_type": "code",
   "execution_count": 24,
   "metadata": {},
   "outputs": [
    {
     "data": {
      "text/plain": [
       "33"
      ]
     },
     "execution_count": 24,
     "metadata": {},
     "output_type": "execute_result"
    }
   ],
   "source": [
    "all_dyn_bh_mass.size"
   ]
  },
  {
   "cell_type": "code",
   "execution_count": 25,
   "metadata": {},
   "outputs": [],
   "source": [
    "# Given parameters (derived or from 2MASS)\n",
    "RA = pi/180*catalog[:,0]\n",
    "DEC = pi/180*catalog[:,1]\n",
    "distance = catalog[:,2]\n",
    "k_mag = catalog[:,3]"
   ]
  },
  {
   "cell_type": "code",
   "execution_count": 26,
   "metadata": {},
   "outputs": [],
   "source": [
    "# Extend catalog with galaxies having dynmically measured SMBHs which are not in original list\n",
    "\n",
    "RA = np.hstack((RA, pi/180*ext_catalog[:,0]))\n",
    "DEC = np.hstack((DEC, pi/180*ext_catalog[:,1]))\n",
    "distance = np.hstack((distance, ext_catalog[:,2]))\n",
    "k_mag = np.hstack((k_mag, ext_catalog[:,4]))\n",
    "cat_name = np.hstack((cat_name, ext_name))\n"
   ]
  },
  {
   "cell_type": "code",
   "execution_count": 27,
   "metadata": {},
   "outputs": [],
   "source": [
    "# Plotting preamble; by Justin Ellis\n",
    "\n",
    "fig_width_pt = 245.27 #513.17           # Get this from LaTeX using \\showthe\\columnwidth\n",
    "inches_per_pt = 1.0/72.27               # Convert pt to inches\n",
    "golden_mean = (np.sqrt(5)-1.0)/2.0      # Aesthetic ratio\n",
    "fig_width = fig_width_pt*inches_per_pt  # width in inches\n",
    "fig_height =fig_width*golden_mean       # height in inches\n",
    "fig_size = [fig_width,fig_height]\n",
    "\n",
    "params = {'backend': 'pdf',\n",
    "        'axes.labelsize': 7,\n",
    "        'lines.markersize': 4,\n",
    "        'font.size': 7,\n",
    "        'xtick.major.size':6,\n",
    "        'xtick.minor.size':3,  \n",
    "        'ytick.major.size':6,\n",
    "        'ytick.minor.size':3, \n",
    "        'xtick.major.width':0.5,\n",
    "        'ytick.major.width':0.5,\n",
    "        'xtick.minor.width':0.5,\n",
    "        'ytick.minor.width':0.5,\n",
    "        'lines.markeredgewidth':1,\n",
    "        'axes.linewidth':1.2,\n",
    "        'legend.fontsize': 7,\n",
    "        'xtick.labelsize': 7,\n",
    "        'ytick.labelsize': 7,\n",
    "        'savefig.dpi':200,\n",
    "        'path.simplify':True,\n",
    "        'font.family': 'serif',\n",
    "        'font.serif':'Times',\n",
    "        'text.latex.preamble': [r'\\usepackage{amsmath}'],\n",
    "        'text.usetex':True,\n",
    "        'figure.figsize': fig_size}\n",
    "plt.rcParams.update(params)"
   ]
  },
  {
   "cell_type": "code",
   "execution_count": null,
   "metadata": {},
   "outputs": [],
   "source": [
    "#Figure 1a of Mingarelli + 2017\n",
    "ax = plt.subplot(111, projection='astro mollweide')\n",
    "ax.grid()\n",
    "plt.scatter(RA, DEC, edgecolors='none',  alpha=0.3, rasterized=True)\n",
    "plt.suptitle(\"2MASS galaxy distribution\",  y=0.15)\n",
    "#plt.savefig(\"2MASS_galaxies.pdf\")"
   ]
  },
  {
   "cell_type": "code",
   "execution_count": 28,
   "metadata": {},
   "outputs": [],
   "source": [
    "# Total number of galaxies (could really take the size of any above parameters)\n",
    "gal_no = RA.size\n",
    "dyn_BHs = all_dyn_bh_name.size"
   ]
  },
  {
   "cell_type": "code",
   "execution_count": 29,
   "metadata": {},
   "outputs": [
    {
     "data": {
      "text/plain": [
       "5119"
      ]
     },
     "execution_count": 29,
     "metadata": {},
     "output_type": "execute_result"
    }
   ],
   "source": [
    "gal_no"
   ]
  },
  {
   "cell_type": "code",
   "execution_count": 30,
   "metadata": {},
   "outputs": [],
   "source": [
    "cat_name = cat_name.tolist()"
   ]
  },
  {
   "cell_type": "code",
   "execution_count": 31,
   "metadata": {},
   "outputs": [],
   "source": [
    "# vector which holds the probablity of each binary being in PTA band\n",
    "p_i_vec = np.zeros([gal_no])\n",
    "chirp_mass_vec = np.zeros([gal_no])\n",
    "\n",
    "# minimum PTA frequency\n",
    "f_min = 1e-9 # "
   ]
  },
  {
   "cell_type": "markdown",
   "metadata": {},
   "source": [
    "## Create multiple gravitational-wave sky realizations from the catalog."
   ]
  },
  {
   "cell_type": "code",
   "execution_count": 32,
   "metadata": {},
   "outputs": [],
   "source": [
    "# NB these take about 60 seconds per realization"
   ]
  },
  {
   "cell_type": "code",
   "execution_count": 108,
   "metadata": {
    "scrolled": false
   },
   "outputs": [],
   "source": [
    "real_tot = 100 # number of realizations, in the paper this is 75,000\n",
    "tot_gal_counter = np.zeros([real_tot]) # keeps track of the total number of galaxies for each realization (loop)\n",
    "tot_stall_counter = np.zeros([real_tot])\n",
    "# multiple realizations of the Universe\n",
    "for j in range(real_tot):   \n",
    "    # array which holds the probablity of each binary being in PTA band and outputs from prob calcs.\n",
    "    p_i_vec = np.zeros([gal_no])\n",
    "    z_loop = np.zeros([gal_no])\n",
    "    T_zLoop = np.zeros([gal_no])\n",
    "    mergRate_loop = np.zeros([gal_no])\n",
    "    t2c_loop = np.zeros([gal_no])\n",
    "    r_inf_loop = np.zeros([gal_no])\n",
    "    friction_t_loop = np.zeros([gal_no])\n",
    "    hardening_t_loop = np.zeros([gal_no])\n",
    "    \n",
    "    # initialize mass arrays\n",
    "    chirp_mass_vec = np.zeros([gal_no])\n",
    "    q_choice = np.zeros([gal_no])\n",
    "    e0_choice = np.random.uniform(low=0.1,high=0.9,size=gal_no)\n",
    "    \n",
    "    m_bulge = Mk2mStar(k_mag) # inferred M* mass from k-band luminosity, Cappellari (2013)\n",
    "    tot_mass = Mbh2Mbulge(m_bulge) # M-Mbulge McConnell & Ma\n",
    "        \n",
    "    # Look for galaxies which have dynamical SMBH mass measurements, and replace their M-Mbulge total\n",
    "    # mass with the dynamically measured one.\n",
    "    qqq=0\n",
    "    for x in all_dyn_bh_name:\n",
    "        if x in cat_name:\n",
    "            bh_idx = cat_name.index(x)\n",
    "            tot_mass[bh_idx] = all_dyn_bh_mass[qqq]\n",
    "            qqq=qqq+1\n",
    "    \n",
    "    for yy in range(gal_no):\n",
    "        q_choice[yy] = np.random.choice(np.logspace(-0.6020599913279624,0,num=5000))  # random q > 0.25 each time\n",
    "    \n",
    "    for xx in range(gal_no):\n",
    "        chirp_mass_vec[xx] = mchirp_q(q_choice[xx], tot_mass[xx])/s_mass # chirp mass with that q, M_tot from catalogue\n",
    "     \n",
    "    # prob of binary being in PTA band\n",
    "    for zz in range(gal_no):\n",
    "        p_i_vec[zz], z_loop[zz], T_zLoop[zz], mergRate_loop[zz], t2c_loop[zz],r_inf_loop[zz], friction_t_loop[zz], hardening_t_loop[zz] = \\\n",
    "        i_prob_Illustris(m_bulge[zz], tot_mass[zz], q_choice[zz], e0_choice[zz], f_min) \n",
    "\n",
    "    # number of stalled binaries\n",
    "    num_zeros = (p_i_vec == 0).sum()\n",
    "    \n",
    "    pta_sources = np.sum(p_i_vec)\n",
    "    \n",
    "    tot_gal_counter[j] = pta_sources\n",
    "    tot_stall_counter[j] = num_zeros  \n",
    "    # What is the prob. of a single galaxy being chosen?\n",
    "    prob_of_each_gal = p_i_vec/pta_sources\n",
    "                                 \n",
    "    no_of_samples = int(np.round(pta_sources))\n",
    "    \n",
    "    # from \"gal_no\" choose \"no_of_samples\" with a probability of \"p\". The result is the index of the galaxy.\n",
    "    gal_choice = np.random.choice(gal_no, no_of_samples, replace = False, p = prob_of_each_gal )\n",
    "\n",
    "    save_p = []\n",
    "    z_list = []\n",
    "    T_z_list = []\n",
    "    mergRate_list=[]\n",
    "    t2c_list = []\n",
    "    r_inf_list = []\n",
    "    friction_list = []\n",
    "    hardening_list = []\n",
    "    \n",
    "    for pr in gal_choice:\n",
    "        save_p.append(prob_of_each_gal[pr])\n",
    "        T_z_list.append(T_zLoop[pr])\n",
    "        mergRate_list.append(mergRate_loop[pr])\n",
    "        t2c_list.append(t2c_loop[pr])\n",
    "        z_list.append(z_loop[pr])\n",
    "        r_inf_list.append(r_inf_loop[pr])\n",
    "        friction_list.append(friction_t_loop[pr])\n",
    "        hardening_list.append(hardening_t_loop[pr])\n",
    "    \n",
    "    # compute strain vectors\n",
    "    strain_vec = np.empty([no_of_samples])\n",
    "    RA_tot = np.empty([no_of_samples])\n",
    "    DEC_tot = np.empty([no_of_samples]) \n",
    "    gw_freq_vec = np.empty([no_of_samples])\n",
    "    gal_cat_name = []\n",
    "    dist_list = []\n",
    "    mstar_list = []\n",
    "    q_rec = []\n",
    "    mchirp_rec = []\n",
    "    \n",
    "    # Here gal_choice[kkk] gives you the correct index number in your arrays for the galaxy chosen\n",
    "    for kkk in range(no_of_samples):\n",
    "        #print \"printing choice of galaxy index \", gal_choice[kkk]\n",
    "        time2col = np.random.uniform(100,2.6e7) # uniform sampling in time to coalesecence, up to fmin, \n",
    "        gw_freq_vec[kkk] = float(freq_gw_wMc(chirp_mass_vec[gal_choice[kkk]],time2col))\n",
    "        strain_vec[kkk] = float(generic_strain_wMc(chirp_mass_vec[gal_choice[kkk]], distance[gal_choice[kkk]], \\\n",
    "                                                   freq_gw_wMc(chirp_mass_vec[gal_choice[kkk]],time2col)))\n",
    "        RA_tot[kkk] = RA[gal_choice[kkk]]\n",
    "        DEC_tot[kkk] = DEC[gal_choice[kkk]]\n",
    "        gal_cat_name.append(cat_name[gal_choice[kkk]])\n",
    "        dist_list.append(distance[gal_choice[kkk]])\n",
    "        mstar_list.append(k_mag[gal_choice[kkk]])\n",
    "        q_rec.append(q_choice[gal_choice[kkk]])\n",
    "        mchirp_rec.append(chirp_mass_vec[gal_choice[kkk]])\n",
    "      \n",
    "    # Save realization\n",
    "      \n",
    "    dest_file = \"../gw_skies/localTest_\"+str(j)+\".txt\"\n",
    "    \n",
    "    result_file = open(dest_file, \"a\") # the a+ allows you to create the file and write to it.\n",
    "    for R, D, F, S, C, Q, G, L, M, P, I, TZ, MR, T2C, Z, RE, FRI, HAR in zip(RA_tot, DEC_tot, \\\n",
    "            gw_freq_vec, strain_vec, mchirp_rec,q_rec, gal_cat_name, dist_list, mstar_list, save_p, \\\n",
    "            gal_choice, T_z_list, mergRate_list, t2c_list, z_list, r_inf_list, friction_list, hardening_list):\n",
    "        result_file.write('{0} {1} {2} {3} {4} {5} {6} {7} {8} {9} {10} {11} {12} {13} {14} {15} {16} {17} {18}\\n'.format(R, D, F, S, C, Q, G, L, M, P, I, TZ, MR, T2C, Z, RE, FRI, HAR, num_zeros)) \n",
    "    result_file.close()"
   ]
  },
  {
   "cell_type": "code",
   "execution_count": 142,
   "metadata": {},
   "outputs": [
    {
     "data": {
      "image/png": "[encoded data removed]",
      "text/plain": [
       "<matplotlib.figure.Figure at 0x7f90c3ae8290>"
      ]
     },
     "metadata": {
      "image/png": {
       "height": 504,
       "width": 603
      }
     },
     "output_type": "display_data"
    }
   ],
   "source": [
    "plt.figure(figsize=(10,8))\n",
    "plt.hist(e0_choice,bins=10)\n",
    "plt.xlabel(r'e',fontsize=20)\n",
    "plt.show()"
   ]
  },
  {
   "cell_type": "code",
   "execution_count": 165,
   "metadata": {},
   "outputs": [
    {
     "data": {
      "image/png": "[encoded data removed]",
      "text/plain": [
       "<matplotlib.figure.Figure at 0x7f90c35057d0>"
      ]
     },
     "metadata": {
      "image/png": {
       "height": 255,
       "width": 367
      }
     },
     "output_type": "display_data"
    }
   ],
   "source": [
    "counts,bins,patches = plt.hist(z_loop[p_i_vec!=0],bins=30,normed=True)"
   ]
  },
  {
   "cell_type": "code",
   "execution_count": 177,
   "metadata": {},
   "outputs": [
    {
     "data": {
      "image/png": "[encoded data removed]",
      "text/plain": [
       "<matplotlib.figure.Figure at 0x7f90c426dfd0>"
      ]
     },
     "metadata": {
      "image/png": {
       "height": 504,
       "width": 711
      }
     },
     "output_type": "display_data"
    }
   ],
   "source": [
    "plt.figure(figsize=(12,8))\n",
    "plt.bar(bins[0:-1],counts*(bins[1]-bins[0]),width=(bins[1:]-bins[0:-1]))\n",
    "plt.xlabel(r'$z$',fontsize=20)\n",
    "plt.ylim(0,0.5)\n",
    "plt.show()"
   ]
  },
  {
   "cell_type": "code",
   "execution_count": 182,
   "metadata": {},
   "outputs": [
    {
     "data": {
      "image/png": "[encoded data removed]",
      "text/plain": [
       "<matplotlib.figure.Figure at 0x7f90c3ffd310>"
      ]
     },
     "metadata": {
      "image/png": {
       "height": 507,
       "width": 598
      }
     },
     "output_type": "display_data"
    }
   ],
   "source": [
    "plt.figure(figsize=(10,8))\n",
    "plt.hist(tot_gal_counter,bins=10)\n",
    "plt.xlabel(r'$N_{exp} - PTA$',fontsize=20)\n",
    "plt.show()"
   ]
  },
  {
   "cell_type": "code",
   "execution_count": 180,
   "metadata": {},
   "outputs": [
    {
     "data": {
      "image/png": "[encoded data removed]",
      "text/plain": [
       "<matplotlib.figure.Figure at 0x7f90c3c95290>"
      ]
     },
     "metadata": {
      "image/png": {
       "height": 504,
       "width": 595
      }
     },
     "output_type": "display_data"
    }
   ],
   "source": [
    "plt.figure(figsize=(10,8))\n",
    "plt.hist(tot_stall_counter,bins=10)\n",
    "plt.xlabel(r'$N_{stall} - PTA$',fontsize=20)\n",
    "plt.show()"
   ]
  },
  {
   "cell_type": "code",
   "execution_count": null,
   "metadata": {
    "collapsed": true
   },
   "outputs": [],
   "source": [
    "# Helpful hint: if you want to count the number of realizations in your directory, do\n",
    "# >> ls -l | grep -v ^l | wc -l"
   ]
  },
  {
   "cell_type": "markdown",
   "metadata": {},
   "source": [
    "## Try using multiprocessing"
   ]
  },
  {
   "cell_type": "code",
   "execution_count": 33,
   "metadata": {},
   "outputs": [],
   "source": [
    "import multiprocessing\n",
    "from multiprocessing import Pool"
   ]
  },
  {
   "cell_type": "code",
   "execution_count": 59,
   "metadata": {},
   "outputs": [],
   "source": [
    "def run_gal_realizations(real_tot):\n",
    "    np.random.seed()\n",
    "    tot_gal_counter = np.zeros([real_tot]) # keeps track of the total number of galaxies for each realization (loop)\n",
    "    tot_stall_counter = np.zeros([real_tot])\n",
    "    # multiple realizations of the Universe\n",
    "    for j in range(real_tot):   \n",
    "        # array which holds the probablity of each binary being in PTA band and outputs from prob calcs.\n",
    "        p_i_vec = np.zeros([gal_no])\n",
    "        z_loop = np.zeros([gal_no])\n",
    "        T_zLoop = np.zeros([gal_no])\n",
    "        mergRate_loop = np.zeros([gal_no])\n",
    "        t2c_loop = np.zeros([gal_no])\n",
    "        r_inf_loop = np.zeros([gal_no])\n",
    "        friction_t_loop = np.zeros([gal_no])\n",
    "        hardening_t_loop = np.zeros([gal_no])\n",
    "\n",
    "        # initialize mass arrays\n",
    "        chirp_mass_vec = np.zeros([gal_no])\n",
    "        q_choice = np.zeros([gal_no])\n",
    "#        e0_choice = np.random.uniform(low=0.1,high=0.9,size=gal_no)\n",
    "        e0 = 0.9\n",
    "        m_bulge = Mk2mStar(k_mag) # inferred M* mass from k-band luminosity, Cappellari (2013)\n",
    "        tot_mass = Mbh2Mbulge(m_bulge) # M-Mbulge McConnell & Ma\n",
    "\n",
    "        # Look for galaxies which have dynamical SMBH mass measurements, and replace their M-Mbulge total\n",
    "        # mass with the dynamically measured one.\n",
    "        qqq=0\n",
    "        for x in all_dyn_bh_name:\n",
    "            if x in cat_name:\n",
    "                bh_idx = cat_name.index(x)\n",
    "                tot_mass[bh_idx] = all_dyn_bh_mass[qqq]\n",
    "                qqq=qqq+1\n",
    "\n",
    "        for yy in range(gal_no):\n",
    "            q_choice[yy] = np.random.choice(np.logspace(-0.6020599913279624,0,num=5000))  # random q > 0.25 each time\n",
    "\n",
    "        for xx in range(gal_no):\n",
    "            chirp_mass_vec[xx] = mchirp_q(q_choice[xx], tot_mass[xx])/s_mass # chirp mass with that q, M_tot from catalogue\n",
    "\n",
    "        # prob of binary being in PTA band\n",
    "        for zz in range(gal_no):\n",
    "            p_i_vec[zz], z_loop[zz], T_zLoop[zz], mergRate_loop[zz], t2c_loop[zz],r_inf_loop[zz], friction_t_loop[zz], hardening_t_loop[zz] = \\\n",
    "            i_prob_Illustris(m_bulge[zz], tot_mass[zz], q_choice[zz], e0, f_min) \n",
    "\n",
    "        # number of stalled binaries\n",
    "        num_zeros = (p_i_vec == 0).sum()\n",
    "\n",
    "        pta_sources = np.sum(p_i_vec)\n",
    "\n",
    "        tot_gal_counter[j] = pta_sources\n",
    "        tot_stall_counter[j] = num_zeros  \n",
    "        # What is the prob. of a single galaxy being chosen?\n",
    "        prob_of_each_gal = p_i_vec/pta_sources\n",
    "\n",
    "        no_of_samples = int(np.round(pta_sources))\n",
    "\n",
    "        # from \"gal_no\" choose \"no_of_samples\" with a probability of \"p\". The result is the index of the galaxy.\n",
    "        gal_choice = np.random.choice(gal_no, no_of_samples, replace = False, p = prob_of_each_gal )\n",
    "\n",
    "        save_p = []\n",
    "        z_list = []\n",
    "        T_z_list = []\n",
    "        mergRate_list=[]\n",
    "        t2c_list = []\n",
    "        r_inf_list = []\n",
    "        friction_list = []\n",
    "        hardening_list = []\n",
    "\n",
    "        for pr in gal_choice:\n",
    "            save_p.append(prob_of_each_gal[pr])\n",
    "            T_z_list.append(T_zLoop[pr])\n",
    "            mergRate_list.append(mergRate_loop[pr])\n",
    "            t2c_list.append(t2c_loop[pr])\n",
    "            z_list.append(z_loop[pr])\n",
    "            r_inf_list.append(r_inf_loop[pr])\n",
    "            friction_list.append(friction_t_loop[pr])\n",
    "            hardening_list.append(hardening_t_loop[pr])\n",
    "        \n",
    "    return tot_gal_counter,tot_stall_counter,save_p,z_list,T_z_list"
   ]
  },
  {
   "cell_type": "code",
   "execution_count": 37,
   "metadata": {},
   "outputs": [],
   "source": [
    "def multiprocessing_realizations(n_realizations):\n",
    "    n_processes = 4\n",
    "    real_tot = int(n_realizations/n_processes)\n",
    "    pool = Pool(processes=n_processes)\n",
    "    result = pool.map(run_gal_realizations,np.ones(n_processes,dtype='int')*real_tot)\n",
    "    return result"
   ]
  },
  {
   "cell_type": "markdown",
   "metadata": {},
   "source": [
    "## Effect of eccentricity"
   ]
  },
  {
   "cell_type": "code",
   "execution_count": 3,
   "metadata": {},
   "outputs": [],
   "source": [
    "data_0p6 = np.loadtxt('../gw_skies/eccentric_runs/gal_realizations_1000_ecc0p6.txt',usecols=(0,15,19,20))\n",
    "data_0p7 = np.loadtxt('../gw_skies/eccentric_runs/gal_realizations_1000_ecc0p7.txt',usecols=(0,15,19,20))\n",
    "data_0p8 = np.loadtxt('../gw_skies/eccentric_runs/gal_realizations_1000_ecc0p8.txt',usecols=(0,15,19,20))\n",
    "data_0p9 = np.loadtxt('../gw_skies/eccentric_runs/gal_realizations_1000_ecc0p9.txt',usecols=(0,15,19,20))"
   ]
  },
  {
   "cell_type": "code",
   "execution_count": 25,
   "metadata": {},
   "outputs": [
    {
     "name": "stderr",
     "output_type": "stream",
     "text": [
      "/home/sid/miniconda2/envs/pymc3_python_env/lib/python3.5/site-packages/matplotlib/axes/_axes.py:6462: UserWarning: The 'normed' kwarg is deprecated, and has been replaced by the 'density' kwarg.\n",
      "  warnings.warn(\"The 'normed' kwarg is deprecated, and has been \"\n",
      "/home/sid/miniconda2/envs/pymc3_python_env/lib/python3.5/site-packages/matplotlib/axes/_axes.py:6462: UserWarning: The 'normed' kwarg is deprecated, and has been replaced by the 'density' kwarg.\n",
      "  warnings.warn(\"The 'normed' kwarg is deprecated, and has been \"\n",
      "/home/sid/miniconda2/envs/pymc3_python_env/lib/python3.5/site-packages/matplotlib/axes/_axes.py:6462: UserWarning: The 'normed' kwarg is deprecated, and has been replaced by the 'density' kwarg.\n",
      "  warnings.warn(\"The 'normed' kwarg is deprecated, and has been \"\n",
      "/home/sid/miniconda2/envs/pymc3_python_env/lib/python3.5/site-packages/matplotlib/axes/_axes.py:6462: UserWarning: The 'normed' kwarg is deprecated, and has been replaced by the 'density' kwarg.\n",
      "  warnings.warn(\"The 'normed' kwarg is deprecated, and has been \"\n"
     ]
    },
    {
     "data": {
      "image/png": "[encoded data removed]",
      "text/plain": [
       "<Figure size 864x720 with 1 Axes>"
      ]
     },
     "metadata": {
      "image/png": {
       "height": 602,
       "width": 708
      }
     },
     "output_type": "display_data"
    }
   ],
   "source": [
    "plt.figure(figsize=(12,10))\n",
    "sb.distplot(data_0p6[:,1],label='e0=0.6',kde=False,norm_hist=True)\n",
    "sb.distplot(data_0p7[:,1],label='e0=0.7',kde=False,norm_hist=True)\n",
    "sb.distplot(data_0p8[:,1],label='e0=0.8',kde=False,norm_hist=True)\n",
    "sb.distplot(data_0p9[:,1],label='e0=0.9',kde=False,norm_hist=True)\n",
    "plt.xlabel(r'Redshift $z$ of galaxy-galaxy merger',fontsize=20)\n",
    "plt.legend()\n",
    "plt.show()"
   ]
  },
  {
   "cell_type": "code",
   "execution_count": 26,
   "metadata": {},
   "outputs": [],
   "source": [
    "num_stalled_0p6 = np.zeros(1000)\n",
    "num_pta_0p6 = np.zeros(1000)\n",
    "for i in range(1000):\n",
    "    num_stalled_0p6[i] = data_0p6[np.where(np.array(data_0p6[:,0],dtype='int')==i)[0][0],2]\n",
    "    num_pta_0p6[i] = data_0p6[np.where(np.array(data_0p6[:,0],dtype='int')==i)[0][0],3]"
   ]
  },
  {
   "cell_type": "code",
   "execution_count": 27,
   "metadata": {},
   "outputs": [],
   "source": [
    "num_stalled_0p7 = np.zeros(1000)\n",
    "num_pta_0p7 = np.zeros(1000)\n",
    "for i in range(1000):\n",
    "    num_stalled_0p7[i] = data_0p7[np.where(np.array(data_0p7[:,0],dtype='int')==i)[0][0],2]\n",
    "    num_pta_0p7[i] = data_0p7[np.where(np.array(data_0p7[:,0],dtype='int')==i)[0][0],3]"
   ]
  },
  {
   "cell_type": "code",
   "execution_count": 28,
   "metadata": {},
   "outputs": [],
   "source": [
    "num_stalled_0p8 = np.zeros(1000)\n",
    "num_pta_0p8 = np.zeros(1000)\n",
    "for i in range(1000):\n",
    "    num_stalled_0p8[i] = data_0p8[np.where(np.array(data_0p8[:,0],dtype='int')==i)[0][0],2]\n",
    "    num_pta_0p8[i] = data_0p8[np.where(np.array(data_0p8[:,0],dtype='int')==i)[0][0],3]"
   ]
  },
  {
   "cell_type": "code",
   "execution_count": 29,
   "metadata": {},
   "outputs": [],
   "source": [
    "num_stalled_0p9 = np.zeros(1000)\n",
    "num_pta_0p9 = np.zeros(1000)\n",
    "for i in range(1000):\n",
    "    num_stalled_0p9[i] = data_0p9[np.where(np.array(data_0p9[:,0],dtype='int')==i)[0][0],2]\n",
    "    num_pta_0p9[i] = data_0p9[np.where(np.array(data_0p9[:,0],dtype='int')==i)[0][0],3]"
   ]
  },
  {
   "cell_type": "code",
   "execution_count": 32,
   "metadata": {},
   "outputs": [
    {
     "name": "stderr",
     "output_type": "stream",
     "text": [
      "/home/sid/miniconda2/envs/pymc3_python_env/lib/python3.5/site-packages/matplotlib/axes/_axes.py:6462: UserWarning: The 'normed' kwarg is deprecated, and has been replaced by the 'density' kwarg.\n",
      "  warnings.warn(\"The 'normed' kwarg is deprecated, and has been \"\n",
      "/home/sid/miniconda2/envs/pymc3_python_env/lib/python3.5/site-packages/matplotlib/axes/_axes.py:6462: UserWarning: The 'normed' kwarg is deprecated, and has been replaced by the 'density' kwarg.\n",
      "  warnings.warn(\"The 'normed' kwarg is deprecated, and has been \"\n",
      "/home/sid/miniconda2/envs/pymc3_python_env/lib/python3.5/site-packages/matplotlib/axes/_axes.py:6462: UserWarning: The 'normed' kwarg is deprecated, and has been replaced by the 'density' kwarg.\n",
      "  warnings.warn(\"The 'normed' kwarg is deprecated, and has been \"\n",
      "/home/sid/miniconda2/envs/pymc3_python_env/lib/python3.5/site-packages/matplotlib/axes/_axes.py:6462: UserWarning: The 'normed' kwarg is deprecated, and has been replaced by the 'density' kwarg.\n",
      "  warnings.warn(\"The 'normed' kwarg is deprecated, and has been \"\n"
     ]
    },
    {
     "data": {
      "image/png": "[encoded data removed]",
      "text/plain": [
       "<Figure size 864x720 with 1 Axes>"
      ]
     },
     "metadata": {
      "image/png": {
       "height": 600,
       "width": 715
      }
     },
     "output_type": "display_data"
    }
   ],
   "source": [
    "plt.figure(figsize=(12,10))\n",
    "sb.distplot(num_pta_0p6,bins=10,label='e0=0.6',kde=False,norm_hist=True)\n",
    "sb.distplot(num_pta_0p7,bins=10,label='e0=0.7',kde=False,norm_hist=True)\n",
    "sb.distplot(num_pta_0p8,bins=10,label='e0=0.8',kde=False,norm_hist=True)\n",
    "sb.distplot(num_pta_0p9,bins=10,label='e0=0.9',kde=False,norm_hist=True)\n",
    "plt.xlabel(r'Number of galaxies per realization',fontsize=20)\n",
    "plt.legend()\n",
    "plt.show()"
   ]
  },
  {
   "cell_type": "code",
   "execution_count": 37,
   "metadata": {},
   "outputs": [
    {
     "name": "stderr",
     "output_type": "stream",
     "text": [
      "/home/sid/miniconda2/envs/pymc3_python_env/lib/python3.5/site-packages/matplotlib/axes/_axes.py:6462: UserWarning: The 'normed' kwarg is deprecated, and has been replaced by the 'density' kwarg.\n",
      "  warnings.warn(\"The 'normed' kwarg is deprecated, and has been \"\n",
      "/home/sid/miniconda2/envs/pymc3_python_env/lib/python3.5/site-packages/matplotlib/axes/_axes.py:6462: UserWarning: The 'normed' kwarg is deprecated, and has been replaced by the 'density' kwarg.\n",
      "  warnings.warn(\"The 'normed' kwarg is deprecated, and has been \"\n",
      "/home/sid/miniconda2/envs/pymc3_python_env/lib/python3.5/site-packages/matplotlib/axes/_axes.py:6462: UserWarning: The 'normed' kwarg is deprecated, and has been replaced by the 'density' kwarg.\n",
      "  warnings.warn(\"The 'normed' kwarg is deprecated, and has been \"\n",
      "/home/sid/miniconda2/envs/pymc3_python_env/lib/python3.5/site-packages/matplotlib/axes/_axes.py:6462: UserWarning: The 'normed' kwarg is deprecated, and has been replaced by the 'density' kwarg.\n",
      "  warnings.warn(\"The 'normed' kwarg is deprecated, and has been \"\n"
     ]
    },
    {
     "data": {
      "image/png": "[encoded data removed]",
      "text/plain": [
       "<Figure size 864x720 with 1 Axes>"
      ]
     },
     "metadata": {
      "image/png": {
       "height": 600,
       "width": 715
      }
     },
     "output_type": "display_data"
    }
   ],
   "source": [
    "plt.figure(figsize=(12,10))\n",
    "sb.distplot(num_stalled_0p6,bins=10,label='e0=0.6',kde=False,norm_hist=True)\n",
    "sb.distplot(num_stalled_0p7,bins=10,label='e0=0.7',kde=False,norm_hist=True)\n",
    "sb.distplot(num_stalled_0p8,bins=10,label='e0=0.8',kde=False,norm_hist=True)\n",
    "sb.distplot(num_stalled_0p9,bins=10,label='e0=0.9',kde=False,norm_hist=True)\n",
    "plt.xlabel(r'Number of stalled binaries per realization',fontsize=20)\n",
    "plt.legend()\n",
    "plt.show()"
   ]
  },
  {
   "cell_type": "code",
   "execution_count": null,
   "metadata": {},
   "outputs": [],
   "source": []
  }
 ],
 "metadata": {
  "kernelspec": {
   "display_name": "Python 3",
   "language": "python",
   "name": "python3"
  },
  "language_info": {
   "codemirror_mode": {
    "name": "ipython",
    "version": 3
   },
   "file_extension": ".py",
   "mimetype": "text/x-python",
   "name": "python",
   "nbconvert_exporter": "python",
   "pygments_lexer": "ipython3",
   "version": "3.5.5"
  }
 },
 "nbformat": 4,
 "nbformat_minor": 1
}
